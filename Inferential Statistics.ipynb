{
 "cells": [
  {
   "cell_type": "markdown",
   "metadata": {},
   "source": [
    "# Inferential Statistics\n",
    "    -Inferential Statistics allow you to make prediction from a data(sample)\n",
    "\n",
    "## Hypothesis Testing\n",
    "### Null Hypothesis\n",
    "    -Sample Mean is equal to similar Mean\n",
    "    "
   ]
  },
  {
   "cell_type": "markdown",
   "metadata": {},
   "source": [
    "### Empirical Rule\n",
    "    68% = mean +-1 std\n",
    "    95% = mean +-2 std\n",
    "    99.7% = mean +-3 std\n",
    "    \n",
    "    "
   ]
  },
  {
   "cell_type": "markdown",
   "metadata": {},
   "source": [
    "# lets us take a situation \n",
    "In a dairy milk production company.All the machines are set to produce a 5gms of weight.\n",
    "After a 2 months of lockdown an employer of an claims that machines are producing less weight(less than 5gms)\n",
    "As a manager we need to check that by Statistical mean\n",
    "As a manager you took last 50 dairy milk and calculated its weight and its mean\n",
    "\n",
    "population mean =5 gms\n",
    "\n",
    "population std=0.1 gms(it means both 5.1 and 4.9 weight are accepted)\n",
    "\n",
    "and we took sample of 20 dairy milks\n",
    "[5.03,4.98,4.83,4.89,4.96,5.12,5.01,5.11,4.95,5.07,4.92,4.89,5.21,5.03,4.98,5.00,4.88,5.13,5.02,4.90]\n"
   ]
  },
  {
   "cell_type": "code",
   "execution_count": 3,
   "metadata": {},
   "outputs": [],
   "source": [
    "import numpy as np\n",
    "from statsmodels.stats.weightstats import ztest"
   ]
  },
  {
   "cell_type": "code",
   "execution_count": 5,
   "metadata": {
    "collapsed": true
   },
   "outputs": [
    {
     "data": {
      "text/plain": [
       "20"
      ]
     },
     "execution_count": 5,
     "metadata": {},
     "output_type": "execute_result"
    }
   ],
   "source": [
    "sample=[5.03,4.98,4.83,4.89,4.96,5.12,5.01,5.11,4.95,5.07,4.92,4.89,5.21,5.03,4.98,5.00,4.88,5.13,5.02,4.90]\n",
    "len(sample)"
   ]
  },
  {
   "cell_type": "code",
   "execution_count": 4,
   "metadata": {},
   "outputs": [],
   "source": [
    "popmean=5\n",
    "popstd=0.1"
   ]
  },
  {
   "cell_type": "code",
   "execution_count": 8,
   "metadata": {},
   "outputs": [
    {
     "name": "stdout",
     "output_type": "stream",
     "text": [
      "-0.20500576295418665\n",
      "0.8375676224666544\n"
     ]
    }
   ],
   "source": [
    "# Ztest gives zscore and pvalue\n",
    "zscore,pvalue=ztest(sample,value=popmean)\n",
    "print(zscore)\n",
    "print(pvalue)"
   ]
  },
  {
   "cell_type": "markdown",
   "metadata": {},
   "source": [
    "## Zscore\n",
    "if business confidence ,CI=95%\n",
    "by empirical rule,then the critical value is +-2\n",
    "### zscore is within ciritical value so it accept the null hypothesis   "
   ]
  },
  {
   "cell_type": "markdown",
   "metadata": {},
   "source": [
    "## Pvalue\n",
    "     alpha= 1-0.95 =0.05\n",
    "     if pvalue > alpha == Accept the null hypothesis(population mean and sample mean are same)\n",
    "     if pvalue < alpha == Reject the null hypothesis\n",
    "### here pvalue is greater than alpha so it accept the null hypothesis     \n",
    "     "
   ]
  },
  {
   "cell_type": "markdown",
   "metadata": {},
   "source": [
    "# Conclusion\n",
    "     Both population mean and sample mean are same so we conclude that machine is working properly"
   ]
  },
  {
   "cell_type": "code",
   "execution_count": null,
   "metadata": {},
   "outputs": [],
   "source": []
  }
 ],
 "metadata": {
  "kernelspec": {
   "display_name": "Python 3",
   "language": "python",
   "name": "python3"
  },
  "language_info": {
   "codemirror_mode": {
    "name": "ipython",
    "version": 3
   },
   "file_extension": ".py",
   "mimetype": "text/x-python",
   "name": "python",
   "nbconvert_exporter": "python",
   "pygments_lexer": "ipython3",
   "version": "3.7.3"
  }
 },
 "nbformat": 4,
 "nbformat_minor": 2
}
